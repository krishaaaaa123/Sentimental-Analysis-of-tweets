{
  "cells": [
    {
      "cell_type": "markdown",
      "metadata": {
        "id": "view-in-github",
        "colab_type": "text"
      },
      "source": [
        "<a href=\"https://colab.research.google.com/github/krishaaaaa123/Sentimental-Analysis-of-tweets/blob/main/project3.ipynb\" target=\"_parent\"><img src=\"https://colab.research.google.com/assets/colab-badge.svg\" alt=\"Open In Colab\"/></a>"
      ]
    },
    {
      "cell_type": "code",
      "execution_count": 2,
      "metadata": {
        "id": "44vlhimeWLyP"
      },
      "outputs": [],
      "source": [
        "import numpy as np\n",
        "import pandas as pd\n",
        "import matplotlib.pyplot as plt\n",
        "import seaborn as sns\n",
        "from textblob import TextBlob\n",
        "from wordcloud import WordCloud\n",
        "\n",
        "import plotly.graph_objects as go"
      ]
    },
    {
      "cell_type": "code",
      "source": [
        "Trump = pd.read_csv('hashtag_donaldtrump.csv', index_col=0)\n",
        "Biden = pd.read_csv('hashtag_joebiden.csv', index_col=0)"
      ],
      "metadata": {
        "id": "x7q4TVyb3NXd"
      },
      "execution_count": null,
      "outputs": []
    },
    {
      "cell_type": "code",
      "execution_count": null,
      "metadata": {
        "id": "KYtH8aAnFURk"
      },
      "outputs": [],
      "source": [
        "print(Biden.shape)"
      ]
    },
    {
      "cell_type": "code",
      "execution_count": null,
      "metadata": {
        "id": "4MWX_0wFF0i9"
      },
      "outputs": [],
      "source": [
        "print(Trump.head())"
      ]
    },
    {
      "cell_type": "code",
      "execution_count": null,
      "metadata": {
        "id": "HJJ3qF5QF3y6"
      },
      "outputs": [],
      "source": [
        "print(Biden.head())"
      ]
    },
    {
      "cell_type": "code",
      "execution_count": null,
      "metadata": {
        "id": "Ia7Y_9SzF5x5"
      },
      "outputs": [],
      "source": [
        "Trump.info()"
      ]
    },
    {
      "cell_type": "code",
      "execution_count": null,
      "metadata": {
        "id": "8bWOEObWF-FD"
      },
      "outputs": [],
      "source": [
        "Trump['text'][200]"
      ]
    },
    {
      "cell_type": "code",
      "execution_count": null,
      "metadata": {
        "id": "Kt6mYB7HGGF6"
      },
      "outputs": [],
      "source": [
        "Biden['text'][100]"
      ]
    },
    {
      "cell_type": "code",
      "execution_count": null,
      "metadata": {
        "id": "BWg6WFuWGO-C"
      },
      "outputs": [],
      "source": [
        "TextBlob(Trump['text'][200]).sentiment"
      ]
    },
    {
      "cell_type": "code",
      "execution_count": null,
      "metadata": {
        "id": "dMTQ38wfGWkz"
      },
      "outputs": [],
      "source": [
        "TextBlob(Biden['text'][100]).sentiment"
      ]
    },
    {
      "cell_type": "code",
      "execution_count": null,
      "metadata": {
        "id": "X6mI4qQqGm9O"
      },
      "outputs": [],
      "source": [
        "def polarity(review):\n",
        "      return TextBlob(review).sentiment.polarity"
      ]
    },
    {
      "cell_type": "code",
      "execution_count": null,
      "metadata": {
        "id": "aHakqbPiV3ew"
      },
      "outputs": [],
      "source": [
        "Trump['polarity'] = Trump['text'].apply(polarity)\n",
        "Biden['polarity'] = Biden['text'].apply(polarity)"
      ]
    },
    {
      "cell_type": "code",
      "execution_count": null,
      "metadata": {
        "id": "V_UznKfsHFLe"
      },
      "outputs": [],
      "source": [
        "Trump.head()"
      ]
    },
    {
      "cell_type": "code",
      "execution_count": null,
      "metadata": {
        "id": "SzwUuK8kHZS0"
      },
      "outputs": [],
      "source": [
        "Biden.head()"
      ]
    },
    {
      "cell_type": "code",
      "execution_count": null,
      "metadata": {
        "id": "3nlw2jxLHi9W"
      },
      "outputs": [],
      "source": [
        "Trump['Expression'] = np.where(Trump['polarity']>0, 'Positive','Negative')\n",
        "Trump.loc[Trump.polarity ==0, 'Expression'] = 'Neutral'\n",
        "Trump.head()"
      ]
    },
    {
      "cell_type": "code",
      "execution_count": null,
      "metadata": {
        "id": "y8MClUUHINfa"
      },
      "outputs": [],
      "source": [
        "Biden['Expression'] = np.where(Biden['polarity']>0, 'Positive','Negative')\n",
        "Biden.loc[Biden.polarity ==0, 'Expression'] = 'Neutral'\n",
        "Biden.head()"
      ]
    },
    {
      "cell_type": "code",
      "execution_count": null,
      "metadata": {
        "id": "IKGEJyhDIVMY"
      },
      "outputs": [],
      "source": [
        "def exp_graph(reviews,title):\n",
        "  group = reviews.groupby('Expression').count()\n",
        "  Pol_count = list(group['polarity'])\n",
        "  Exp = list(group_index)\n",
        "\n",
        "  group_list = list(zip(Pol_count,Exp))\n",
        "\n",
        "  df = pd.DataFrame(group_list,columns=['Pol_count', 'Exp'])\n",
        "\n",
        "  df['color'] = 'rgb(14,185,54)'\n",
        "  df.loc[df.Exp == 'Neutral', 'color'] = 'rgb(18,29,31)'\n",
        "  df.loc[df.Exp == 'Negative', 'color'] = 'rgb(206,31,31)'\n",
        "\n",
        "  go.Figure(go.Bar(x=df['Pol_count']\n",
        "                   y=df['Exp'], orientation= 'h',\n",
        "                   marker= {'color':df[color]})).update_layout(title_text=title).show()\n"
      ]
    },
    {
      "cell_type": "code",
      "execution_count": null,
      "metadata": {
        "id": "Y9Bo_cl2K3op"
      },
      "outputs": [],
      "source": [
        "exp_graph(Trump, 'Analysis for Trump')"
      ]
    },
    {
      "cell_type": "code",
      "execution_count": null,
      "metadata": {
        "id": "hO6fO7SXLJjO"
      },
      "outputs": [],
      "source": [
        "exp_graph(Biden, 'Analysis for Biden')"
      ]
    },
    {
      "cell_type": "code",
      "execution_count": null,
      "metadata": {
        "id": "V2Dji8bgLS-v"
      },
      "outputs": [],
      "source": [
        "Trump[Trump['polarity']==0].shape"
      ]
    },
    {
      "cell_type": "code",
      "execution_count": null,
      "metadata": {
        "id": "52JswaMGLgT8"
      },
      "outputs": [],
      "source": [
        "Biden[Biden['polarity']==0].shape"
      ]
    },
    {
      "cell_type": "code",
      "execution_count": null,
      "metadata": {
        "id": "msXG9iLwLnXK"
      },
      "outputs": [],
      "source": [
        "Biden[Biden['polarity']<0].shape"
      ]
    },
    {
      "cell_type": "code",
      "execution_count": null,
      "metadata": {
        "id": "LAe_87XuLjic"
      },
      "outputs": [],
      "source": [
        "Trump[Trump['polarity']<0].shape"
      ]
    },
    {
      "cell_type": "code",
      "execution_count": null,
      "metadata": {
        "id": "FnJa05wCLqOs"
      },
      "outputs": [],
      "source": [
        "Trump[Trump['polarity']>0].shape"
      ]
    },
    {
      "cell_type": "code",
      "execution_count": null,
      "metadata": {
        "id": "zpj7G8xgLs3g"
      },
      "outputs": [],
      "source": [
        "Biden[Biden['polarity']>0].shape"
      ]
    },
    {
      "cell_type": "code",
      "execution_count": null,
      "metadata": {
        "id": "r9mE3mLCL_Tg"
      },
      "outputs": [],
      "source": [
        "Trump.drop((Trump[Trump['polarity']==0]).index, inplace==True)\n",
        "print(Trump.shape)\n",
        "Biden.drop((Biden[Biden['polarity']==0]).index, inplace==True)\n",
        "print(Biden.shape)\n"
      ]
    },
    {
      "cell_type": "code",
      "execution_count": null,
      "metadata": {
        "id": "IQqaUjRcMbVC"
      },
      "outputs": [],
      "source": [
        "def balanced_data(reviews,n):\n",
        "  np.random.seed(10)\n",
        "  drop = np.random.choice(reviews.index,n,replace=False)\n",
        "  review_subset = reviews.drop(drop)\n",
        "  return review_subset"
      ]
    },
    {
      "cell_type": "code",
      "execution_count": null,
      "metadata": {
        "id": "2LmLz6rVM9d2"
      },
      "outputs": [],
      "source": [
        "Trump_subset = balanced_data(Trump,169)\n",
        "print(Trump_subset.shape)\n",
        "\n",
        "Biden_subset = balanced_Data(Biden,37)\n",
        "print(Biden_subset.shape)\n"
      ]
    },
    {
      "cell_type": "code",
      "execution_count": null,
      "metadata": {
        "id": "X-_Ix1vXNmTE"
      },
      "outputs": [],
      "source": [
        "sns.distplot(Trump_subset['polarity'])"
      ]
    },
    {
      "cell_type": "code",
      "execution_count": null,
      "metadata": {
        "id": "JyeutpVqN9HQ"
      },
      "outputs": [],
      "source": [
        "sns.distplot(Biden_subset['polarity'])"
      ]
    },
    {
      "cell_type": "code",
      "execution_count": null,
      "metadata": {
        "id": "yY4N8qeKNyVZ"
      },
      "outputs": [],
      "source": [
        "sns.boxplot(Trump_subset['polarity'])"
      ]
    },
    {
      "cell_type": "code",
      "execution_count": null,
      "metadata": {
        "id": "jgZIlaiEOAjO"
      },
      "outputs": [],
      "source": [
        "sns.boxplot(Biden_subset['polarity'])\n"
      ]
    },
    {
      "cell_type": "code",
      "execution_count": null,
      "metadata": {
        "id": "CXhP8ZsKOPdR"
      },
      "outputs": [],
      "source": [
        "Trump_subset.groupby('Expression').count()\n",
        "Biden_subset.groupby('Expression').count()"
      ]
    },
    {
      "cell_type": "code",
      "execution_count": null,
      "metadata": {
        "id": "seA-bzP9OEjZ"
      },
      "outputs": [],
      "source": [
        "def pol_percent(subset,total):\n",
        "  neg_percent = ((subset.groupby('Expression').count())['polarity'][0]/total)*100\n",
        "  pos_percent = ((subset.groupby('Expression').count())['polarity'][1]/total)*100\n",
        "  return neg_percent,pos_percent"
      ]
    },
    {
      "cell_type": "code",
      "execution_count": null,
      "metadata": {
        "id": "fwOEoUXpPEdi"
      },
      "outputs": [],
      "source": [
        "Trump_pol_percent = pol_percent(Trump_subset,4000)\n",
        "print(Trump_pol_percent)\n",
        "\n",
        "Biden_pol_percent = pol_percent(Biden_subset,4000)\n",
        "print(Biden_pol_percent)"
      ]
    },
    {
      "cell_type": "code",
      "execution_count": null,
      "metadata": {
        "id": "_YKK71rtPlxE"
      },
      "outputs": [],
      "source": [
        "Candidate = ['Donald Trump', 'Joe Biden']\n",
        "pos = [Trump_pol_percent[1], Biden_pol_percent[1]]\n",
        "neg = [Trump_pol_percent[0], Biden_pol_percent[0]]\n",
        "\n",
        "go.Figure(data=[\n",
        "    go.Bar(name = 'Positive', x=Candidate, y=pos)\n",
        "    go.Bar(name = 'Negative', x=Candidate, y=neg)\n",
        "])"
      ]
    },
    {
      "cell_type": "code",
      "execution_count": null,
      "metadata": {
        "id": "05y1WoV3QsYc"
      },
      "outputs": [],
      "source": [
        "Trump_total_percent = pol_percent(Trump_subset,8000)\n",
        "Trump_total_percent"
      ]
    },
    {
      "cell_type": "code",
      "execution_count": null,
      "metadata": {
        "id": "htRC4rySQ6n1"
      },
      "outputs": [],
      "source": [
        "Biden_total_percent = pol_percent(Biden_subset,8000)\n",
        "Biden_total_percent"
      ]
    },
    {
      "cell_type": "code",
      "execution_count": null,
      "metadata": {
        "id": "J_tAktuZRPrD"
      },
      "outputs": [],
      "source": [
        "Trump_pos = Trump_total_percent[1] + Biden_total_percent[0]\n",
        "print(Trump_pos)\n",
        "Biden_pos = Biden_total_percent[1] + Trump_total_percent[0]\n",
        "print(Biden_pos)\n"
      ]
    },
    {
      "cell_type": "code",
      "execution_count": null,
      "metadata": {
        "id": "MC12zTNcRoi7"
      },
      "outputs": [],
      "source": [
        "go.Figure(go.Bar(y=['Trump\\'s Favour' ,'Biden\\'s Favour']\n",
        "                 x=[trump_pos,biden_pos],\n",
        "                 marker={'color': ['rgb(100,200,150)', 'rgb(90,150,200)']}\n",
        "                 orientation= 'h')).update_layout(title_text='Public Sentiment')"
      ]
    },
    {
      "cell_type": "code",
      "execution_count": null,
      "metadata": {
        "id": "_knN0puyS2Or"
      },
      "outputs": [],
      "source": [
        "def pos_tweets(tweets,title):\n",
        "  most_pos_text = tweets[tweets['polarity'] == 1].text.head()\n",
        "  most_pos_pol = tweets[tweets['polarity'] == 1].polarity.head()\n",
        "\n",
        "  go.Figure(data=[go.Table(columnorder=[1,2]\n",
        "                           columnwidth=[10,100],\n",
        "                           header={'values': ['polarity', title], 'align': 'left'}\n",
        "                           )]).update_layout(title_text=title).show()"
      ]
    },
    {
      "cell_type": "code",
      "execution_count": null,
      "metadata": {
        "id": "6_Ym40yoUPb4"
      },
      "outputs": [],
      "source": [
        "pos_tweets(Trump.subset, 'Positive tweets for Donald Trump')\n",
        "pos_tweets(Biden.subset, 'Positive tweets for Joe Biden')"
      ]
    },
    {
      "cell_type": "code",
      "execution_count": null,
      "metadata": {
        "id": "PYhHSYP2WGre"
      },
      "outputs": [],
      "source": [
        "def neg_tweets(tweets,title):\n",
        "  most_pos_text = tweets[tweets['polarity'] == -1].text.head()\n",
        "  most_pos_pol = tweets[tweets['polarity'] == -1].polarity.head()\n",
        "\n",
        "  go.Figure(data=[go.Table(columnorder=[1,2]\n",
        "                           columnwidth=[10,100],\n",
        "                           header={'values': ['polarity', title], 'align': 'left'}\n",
        "                           )]).update_layout(title_text=title).show()"
      ]
    },
    {
      "cell_type": "code",
      "execution_count": null,
      "metadata": {
        "id": "nfdyigPcWgxG"
      },
      "outputs": [],
      "source": [
        "neg_tweets(Trump_subset, 'Negative tweets for Donald Trump')\n",
        "neg_tweets(Biden_subset, 'Negative tweets for Joe Biden')"
      ]
    },
    {
      "cell_type": "code",
      "execution_count": null,
      "metadata": {
        "id": "-7Rx0igCW0tA"
      },
      "outputs": [],
      "source": [
        "def wordcloud(data,title):\n",
        "  text = str(data.text)\n",
        "  wc = WordCloud(max_font_size=100,max_words=500,scale=10,relative_scaling=0.6, background_color='white').generate(text)\n",
        "\n",
        "  plt.figure(figsize=(15,10))\n",
        "  plt.title(title,{'fontsize':30,'family':'serif'})\n",
        "  plt.axis('off')\n",
        "  plt.imshow(wc)\n"
      ]
    },
    {
      "cell_type": "markdown",
      "metadata": {
        "id": "psFlcv_LUuAt"
      },
      "source": []
    }
  ],
  "metadata": {
    "colab": {
      "provenance": [],
      "authorship_tag": "ABX9TyPc/57haMQTbhFJQrzw0gDy",
      "include_colab_link": true
    },
    "kernelspec": {
      "display_name": "Python 3",
      "name": "python3"
    },
    "language_info": {
      "name": "python"
    }
  },
  "nbformat": 4,
  "nbformat_minor": 0
}